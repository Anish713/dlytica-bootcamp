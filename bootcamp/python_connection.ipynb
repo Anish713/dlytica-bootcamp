{
 "cells": [
  {
   "cell_type": "code",
   "execution_count": 4,
   "metadata": {},
   "outputs": [],
   "source": [
    "import psycopg2"
   ]
  },
  {
   "cell_type": "code",
   "execution_count": 7,
   "metadata": {},
   "outputs": [],
   "source": [
    "# DB CONNECTION PARAMETERS\n",
    "# For local postgresql connection\n",
    "DB_HOST = \"localhost\"\n",
    "DB_PORT = \"5432\"\n",
    "DB_NAME = \"postgres\"\n",
    "DB_USER = \"postgres\"\n",
    "DB_PASS = \"Anish\""
   ]
  },
  {
   "cell_type": "code",
   "execution_count": 14,
   "metadata": {},
   "outputs": [],
   "source": [
    "# For render cloud postgresql connection\n",
    "DB_HOST = \"dpg-cn64b6md3nmc739gf1bg-a.ohio-postgres.render.com\"\n",
    "DB_PORT = \"5432\"\n",
    "DB_NAME = \"dlytica_db\"\n",
    "DB_USER = \"dlytica\"\n",
    "DB_PASS = \"xWxj0xYN7Lf8mMJO4iV4f05zt0EL9UFi\""
   ]
  },
  {
   "cell_type": "code",
   "execution_count": 8,
   "metadata": {},
   "outputs": [],
   "source": [
    "# Connect to PostgreSQL database\n",
    "conn = psycopg2.connect(host=DB_HOST, database=DB_NAME, user=DB_USER, password=DB_PASS, port=DB_PORT)\n",
    "\n",
    "cursor = conn.cursor()"
   ]
  },
  {
   "cell_type": "code",
   "execution_count": 16,
   "metadata": {},
   "outputs": [],
   "source": [
    "cursor.execute(\"\"\"\n",
    "-- SQL Queries here\n",
    "CREATE TABLE students (\n",
    "    student_id SERIAL PRIMARY KEY,\n",
    "    first_name VARCHAR(50),\n",
    "    last_name VARCHAR(50),\n",
    "    age INT,\n",
    "    major VARCHAR(50)\n",
    ");\n",
    "\"\"\")"
   ]
  },
  {
   "cell_type": "code",
   "execution_count": 17,
   "metadata": {},
   "outputs": [],
   "source": [
    "conn.commit()"
   ]
  },
  {
   "cell_type": "code",
   "execution_count": 6,
   "metadata": {},
   "outputs": [],
   "source": [
    "# conn.rollback()"
   ]
  },
  {
   "cell_type": "code",
   "execution_count": 18,
   "metadata": {},
   "outputs": [],
   "source": [
    "cursor.execute(\"\"\"\n",
    "INSERT INTO students (first_name, last_name, age, major)\n",
    "VALUES\n",
    "    ('Alice', 'Johnson', 20, 'Math'),\n",
    "    ('Bob', 'Smith', 22, 'Physics'),\n",
    "    ('Charlie', 'Brown', 21, 'Computer Science'),\n",
    "    ('David', 'Lee', 23, 'Biology');\n",
    "\"\"\")"
   ]
  },
  {
   "cell_type": "code",
   "execution_count": 19,
   "metadata": {},
   "outputs": [],
   "source": [
    "conn.commit()"
   ]
  },
  {
   "cell_type": "code",
   "execution_count": 20,
   "metadata": {},
   "outputs": [
    {
     "name": "stdout",
     "output_type": "stream",
     "text": [
      "[(1, 'Alice', 'Johnson', 20, 'Math'), (2, 'Bob', 'Smith', 22, 'Physics'), (3, 'Charlie', 'Brown', 21, 'Computer Science'), (4, 'David', 'Lee', 23, 'Biology')]\n"
     ]
    }
   ],
   "source": [
    "# Query the data\n",
    "select_query = '''\n",
    "SELECT * FROM students;\n",
    "'''\n",
    "cursor.execute(select_query)\n",
    "rows = cursor.fetchall()\n",
    "print(rows)"
   ]
  },
  {
   "cell_type": "code",
   "execution_count": 13,
   "metadata": {},
   "outputs": [],
   "source": [
    "# Close the cursor and connection\n",
    "cursor.close()\n",
    "conn.close()"
   ]
  },
  {
   "cell_type": "code",
   "execution_count": null,
   "metadata": {},
   "outputs": [],
   "source": []
  }
 ],
 "metadata": {
  "kernelspec": {
   "display_name": ".venv",
   "language": "python",
   "name": "python3"
  },
  "language_info": {
   "codemirror_mode": {
    "name": "ipython",
    "version": 3
   },
   "file_extension": ".py",
   "mimetype": "text/x-python",
   "name": "python",
   "nbconvert_exporter": "python",
   "pygments_lexer": "ipython3",
   "version": "3.11.5"
  }
 },
 "nbformat": 4,
 "nbformat_minor": 2
}
